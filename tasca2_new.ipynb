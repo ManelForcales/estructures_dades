{
 "cells": [
  {
   "cell_type": "markdown",
   "metadata": {},
   "source": [
    "Crea una llista que agrupi els mesos de l’any en trimestres (1T: Gener, Febrer i Març, 2T: Abril, Maig, Juny...), és a dir, una llista amb 4 llistes dins.\n",
    "\n"
   ]
  },
  {
   "cell_type": "code",
   "execution_count": 1,
   "metadata": {},
   "outputs": [],
   "source": [
    "any = [['Gener','Febrer','Març'],['Abril','Maig','Juny'],['Juliol','Agost','Setembre'],['Octubre','Novembre','Desembre']]"
   ]
  },
  {
   "cell_type": "markdown",
   "metadata": {},
   "source": [
    "Crea un codi que et permeti accedir a:\n",
    "\n",
    "    El segon més del primer trimestre\n",
    "    Els mesos del primer trimestre\n",
    "    Setembre i octubre\n"
   ]
  },
  {
   "cell_type": "code",
   "execution_count": 2,
   "metadata": {},
   "outputs": [
    {
     "name": "stdout",
     "output_type": "stream",
     "text": [
      "Febrer\n",
      "['Gener', 'Febrer', 'Març']\n",
      "Setembre Octubre\n"
     ]
    }
   ],
   "source": [
    "print(any[0][1])\n",
    "print(any[:][0])\n",
    "print(any[2][-1],any[-1][0])\n"
   ]
  },
  {
   "cell_type": "markdown",
   "metadata": {},
   "source": [
    "Crea una llista amb nombres desordenats i respon a les següents preguntes:\n",
    "\n",
    "    Quants números hi ha?\n",
    "    Quantes vegades apareix el número 3\n",
    "    Quantes vegades apareixen els nombres 3 i 4?\n",
    "    Quin és el número més gran?\n",
    "    Quins són els 3 números més petits?\n",
    "    Quin és el rang d’aquesta llista?\n"
   ]
  },
  {
   "cell_type": "code",
   "execution_count": 39,
   "metadata": {},
   "outputs": [],
   "source": [
    "num = [2,3,45,4,67,89,23,4,-56,22,3,5,9,7,5,46,125]"
   ]
  },
  {
   "cell_type": "code",
   "execution_count": 42,
   "metadata": {},
   "outputs": [
    {
     "name": "stdout",
     "output_type": "stream",
     "text": [
      "hay 17 numeros\n",
      "el 3 aparece 2 veces\n",
      "el 3 y 4 aparecen 4 veces\n",
      "el numero me gran es el: 125\n",
      "els 3 numeros mes petits son: [-56, 2, 3]\n",
      "el rang es de -56 fins a 125\n"
     ]
    }
   ],
   "source": [
    "print(f'hay {len(num)} numeros')\n",
    "print(f'el 3 aparece {num.count(3)} veces')\n",
    "print(f'el 3 y 4 aparecen {num.count(3)+num.count(4)} veces')\n",
    "print(f'el numero me gran es el: {max(num)}')\n",
    "print(f'els 3 numeros mes petits son: {list(sorted(set(num)))[0:3]}')\n",
    "print(f'el rang es de {min(num)} fins a {max(num)}')"
   ]
  },
  {
   "cell_type": "markdown",
   "metadata": {},
   "source": [
    "Crea un diccionari de la següent forma i respon a les preguntes:\n",
    "\n",
    "compra = { \"Pomes\" : {\"Qty\": 5, \"€\": 0.42}, \"Peres\" : {\"Qty\": 3, \"€\": 0.66} }\n",
    "\n",
    "    Afegeix alguna fruita més\n",
    "    Quant han costat les peres en total?\n",
    "    Quantes fruites hem comprat en total?\n",
    "    Quina és la fruita més cara?\n"
   ]
  },
  {
   "cell_type": "code",
   "execution_count": 90,
   "metadata": {},
   "outputs": [],
   "source": [
    "compra = { \"Pomes\" : {\"Qty\": 5, \"€\": 0.42}, \"Peres\" : {\"Qty\": 3, \"€\": 0.66} }"
   ]
  },
  {
   "cell_type": "code",
   "execution_count": 137,
   "metadata": {},
   "outputs": [],
   "source": [
    "compra.update({'Maduixes':{\"Qty\": 15, \"€\": 3.41}})\n",
    "compra['Banana']={\"Qty\": 10, \"€\": 0.41}\n",
    "compra['Taronges']={\"Qty\": 3, \"€\": 3.3}"
   ]
  },
  {
   "cell_type": "code",
   "execution_count": 138,
   "metadata": {},
   "outputs": [],
   "source": [
    "def get_total(compras):\n",
    "    total = 0\n",
    "    for key,val in compras.items():\n",
    "        total +=val.get('Qty')\n",
    "    return total    "
   ]
  },
  {
   "cell_type": "code",
   "execution_count": 139,
   "metadata": {},
   "outputs": [
    {
     "name": "stdout",
     "output_type": "stream",
     "text": [
      "hems comprado un total de 61 frutas\n"
     ]
    }
   ],
   "source": [
    "print(f'hems comprado un total de {get_total(compra)} frutas')"
   ]
  },
  {
   "cell_type": "code",
   "execution_count": 140,
   "metadata": {},
   "outputs": [],
   "source": [
    "def get_expensive_fruit(compras):\n",
    "    precio_mas_caro = 0\n",
    "    for key,val in compras.items():\n",
    "        if val.get('€')> precio_mas_caro:\n",
    "            precio_mas_caro = val.get('€')\n",
    "    fruta_cara=[key for key,val in compras.items() if precio_mas_caro==val.get('€')]\n",
    "           \n",
    "    return fruta_cara[0]"
   ]
  },
  {
   "cell_type": "code",
   "execution_count": 141,
   "metadata": {},
   "outputs": [
    {
     "name": "stdout",
     "output_type": "stream",
     "text": [
      "la fruta mas cara son las maduixes\n"
     ]
    }
   ],
   "source": [
    "print(f'la fruta mas cara son las {get_expensive_fruit(compra)}')"
   ]
  },
  {
   "cell_type": "code",
   "execution_count": null,
   "metadata": {},
   "outputs": [],
   "source": []
  }
 ],
 "metadata": {
  "kernelspec": {
   "display_name": "Python 3.8.5 64-bit",
   "language": "python",
   "name": "python38564bit085283b789164c689fec9352bdb58d25"
  },
  "language_info": {
   "codemirror_mode": {
    "name": "ipython",
    "version": 3
   },
   "file_extension": ".py",
   "mimetype": "text/x-python",
   "name": "python",
   "nbconvert_exporter": "python",
   "pygments_lexer": "ipython3",
   "version": "3.8.5"
  }
 },
 "nbformat": 4,
 "nbformat_minor": 4
}
